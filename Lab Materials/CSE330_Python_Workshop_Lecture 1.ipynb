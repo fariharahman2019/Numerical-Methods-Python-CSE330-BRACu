{
  "nbformat": 4,
  "nbformat_minor": 0,
  "metadata": {
    "colab": {
      "name": "Python Workshop.ipynb",
      "provenance": [],
      "collapsed_sections": []
    },
    "kernelspec": {
      "name": "python3",
      "display_name": "Python 3"
    }
  },
  "cells": [
    {
      "cell_type": "code",
      "metadata": {
        "id": "P5tVP7fnO0cB",
        "colab_type": "code",
        "colab": {}
      },
      "source": [
        "# VARIABLES\n",
        "#int\n",
        "a = 1234\n",
        "#float\n",
        "b = 1.34\n",
        "#complex \n",
        "c = 12 + 34j\n",
        "#string\n",
        "d = 'Hello World'\n",
        "#boolean\n",
        "e = True \n",
        "f = False"
      ],
      "execution_count": null,
      "outputs": []
    },
    {
      "cell_type": "code",
      "metadata": {
        "id": "J4B716wLO7Nw",
        "colab_type": "code",
        "colab": {
          "base_uri": "https://localhost:8080/",
          "height": 119
        },
        "outputId": "e22311cf-d219-42fd-9685-cfefd4000b5d"
      },
      "source": [
        "print(type(a))\n",
        "print(type(b))\n",
        "print(type(c))\n",
        "print(type(d))\n",
        "print(type(e))\n",
        "print(\"The Datatype of variable a is\", type(a))"
      ],
      "execution_count": null,
      "outputs": [
        {
          "output_type": "stream",
          "text": [
            "<class 'int'>\n",
            "<class 'float'>\n",
            "<class 'complex'>\n",
            "<class 'str'>\n",
            "<class 'bool'>\n",
            "The Datatype of variable a is <class 'int'>\n"
          ],
          "name": "stdout"
        }
      ]
    },
    {
      "cell_type": "code",
      "metadata": {
        "id": "VOCTCYvdR7mz",
        "colab_type": "code",
        "colab": {
          "base_uri": "https://localhost:8080/",
          "height": 136
        },
        "outputId": "6db4cc26-b53d-457b-d14e-a9e2531fc405"
      },
      "source": [
        "x = \" hello World!\"\n",
        "\n",
        "#string length\n",
        "print(len(x))\n",
        "print(x[2])\n",
        "\n",
        "# SLICING\n",
        "print(x[1])\n",
        "print(x[1:6])\n",
        "print(x[:6])\n",
        "print(x[6:])\n",
        "print(x[-6:-1])"
      ],
      "execution_count": null,
      "outputs": [
        {
          "output_type": "stream",
          "text": [
            "13\n",
            "e\n",
            "h\n",
            "hello\n",
            " hello\n",
            " World!\n",
            "World\n"
          ],
          "name": "stdout"
        }
      ]
    },
    {
      "cell_type": "code",
      "metadata": {
        "id": "RGYIdY9EUSxW",
        "colab_type": "code",
        "colab": {
          "base_uri": "https://localhost:8080/",
          "height": 85
        },
        "outputId": "5336619a-6cda-40aa-d44c-19bbe04effec"
      },
      "source": [
        "#string methods\n",
        "x = \" hElLo wORld     \"\n",
        "print(x.upper())\n",
        "print(x.lower())\n",
        "print(x.title())\n",
        "print(x.strip().title())"
      ],
      "execution_count": null,
      "outputs": [
        {
          "output_type": "stream",
          "text": [
            " HELLO WORLD     \n",
            " hello world     \n",
            " Hello World     \n",
            "Hello World\n"
          ],
          "name": "stdout"
        }
      ]
    },
    {
      "cell_type": "code",
      "metadata": {
        "id": "BAOKu8a-XZDI",
        "colab_type": "code",
        "colab": {
          "base_uri": "https://localhost:8080/",
          "height": 102
        },
        "outputId": "414345dc-73fa-4179-d1b6-270c7e0881ae"
      },
      "source": [
        "#more string methods\n",
        "x = \"my name is khan\"\n",
        "print(x.find(\"khan\"))\n",
        "y = x.replace(\"khan\", \"abid\")\n",
        "print(x)\n",
        "print(y)\n",
        "doesContainKhan = \"khan\" in x\n",
        "print(type(doesContainKhan))\n",
        "print(doesContainKhan)"
      ],
      "execution_count": null,
      "outputs": [
        {
          "output_type": "stream",
          "text": [
            "11\n",
            "my name is khan\n",
            "my name is abid\n",
            "<class 'bool'>\n",
            "True\n"
          ],
          "name": "stdout"
        }
      ]
    },
    {
      "cell_type": "code",
      "metadata": {
        "id": "ICRNfwa3YuSa",
        "colab_type": "code",
        "colab": {
          "base_uri": "https://localhost:8080/",
          "height": 51
        },
        "outputId": "26d5bf56-71a8-4f02-f15c-7fac5cbdf7db"
      },
      "source": [
        "# STRING FORMATTING\n",
        "x = 1\n",
        "y = 3.14\n",
        "print(f\"The value of x = {x}\")\n",
        "print(f\"The value of y = {y}\")"
      ],
      "execution_count": null,
      "outputs": [
        {
          "output_type": "stream",
          "text": [
            "The value of x = 1\n",
            "The value of y = 3.14\n"
          ],
          "name": "stdout"
        }
      ]
    },
    {
      "cell_type": "code",
      "metadata": {
        "id": "JNrD7nzAad3y",
        "colab_type": "code",
        "colab": {
          "base_uri": "https://localhost:8080/",
          "height": 34
        },
        "outputId": "461328e7-114e-4811-fc55-ba06692a1018"
      },
      "source": [
        "# CONDITIONAL STATEMENT\n",
        "x = 5\n",
        "\n",
        "if 1 < x < 10:\n",
        "    if x == 1:\n",
        "        print(\"x = 1\")\n",
        "    elif x == 10:\n",
        "        print(\"x = 10\")\n",
        "    else:\n",
        "        print(\"YES\")\n",
        "        \n",
        "    x = x + 5\n",
        "elif 10 < x < 20:\n",
        "    print(\"no\")\n",
        "    print(\"NOPE\")\n",
        "\n",
        "else:\n",
        "    print(idk)"
      ],
      "execution_count": null,
      "outputs": [
        {
          "output_type": "stream",
          "text": [
            "YES\n"
          ],
          "name": "stdout"
        }
      ]
    },
    {
      "cell_type": "code",
      "metadata": {
        "id": "xh9qjFuRcdgX",
        "colab_type": "code",
        "colab": {
          "base_uri": "https://localhost:8080/",
          "height": 204
        },
        "outputId": "de3b3201-2d8f-4fca-db27-184bd074b422"
      },
      "source": [
        "# WHILE LOOP\n",
        "\n",
        "x = 10\n",
        "\n",
        "while x >= 1:\n",
        "    print(x)\n",
        "    x -= 1\n",
        "x = x + 100\n",
        "print(\"x =\", x)"
      ],
      "execution_count": null,
      "outputs": [
        {
          "output_type": "stream",
          "text": [
            "10\n",
            "9\n",
            "8\n",
            "7\n",
            "6\n",
            "5\n",
            "4\n",
            "3\n",
            "2\n",
            "1\n",
            "x = 100\n"
          ],
          "name": "stdout"
        }
      ]
    },
    {
      "cell_type": "code",
      "metadata": {
        "id": "Gwrro-q3eET_",
        "colab_type": "code",
        "colab": {
          "base_uri": "https://localhost:8080/",
          "height": 289
        },
        "outputId": "b3ec993c-979f-4ccd-c627-24ef716e14ae"
      },
      "source": [
        "# FOR LOOP\n",
        "\n",
        "print(\"First\")\n",
        "for i in range(0,5):\n",
        "  print(i)\n",
        "print(\"Second\")\n",
        "for i in range(5):\n",
        "  print(i ** 3) #cube of i\n",
        "\n",
        "\n",
        "\n",
        "# Default: +, -, /, *, %\n",
        "\n",
        "# Extra: // - integer divison   \n",
        "print(\"5/2 is\", 5/2)\n",
        "print(\"5//2 is\", 5//2)\n",
        "# Extra: ** - to the power\n",
        "print(\"2**3 =\", 2**3)\n",
        "# square root\n",
        "print(\"square roor of 5 is \", 5 ** 0.5)"
      ],
      "execution_count": null,
      "outputs": [
        {
          "output_type": "stream",
          "text": [
            "First\n",
            "0\n",
            "1\n",
            "2\n",
            "3\n",
            "4\n",
            "Second\n",
            "0\n",
            "1\n",
            "8\n",
            "27\n",
            "64\n",
            "5/2 is 2.5\n",
            "5//2 is 2\n",
            "2**3 = 8\n",
            "square roor of 5 is  2.23606797749979\n"
          ],
          "name": "stdout"
        }
      ]
    },
    {
      "cell_type": "code",
      "metadata": {
        "id": "DxSBpPpee0Aq",
        "colab_type": "code",
        "colab": {
          "base_uri": "https://localhost:8080/",
          "height": 68
        },
        "outputId": "5a6a5ca6-7c3e-447e-c955-78c63bca4aa9"
      },
      "source": [
        "for i in range(1, 10, 3):\n",
        "  print(i)"
      ],
      "execution_count": null,
      "outputs": [
        {
          "output_type": "stream",
          "text": [
            "1\n",
            "4\n",
            "7\n"
          ],
          "name": "stdout"
        }
      ]
    },
    {
      "cell_type": "code",
      "metadata": {
        "id": "KKaPEOKcoqIa",
        "colab_type": "code",
        "colab": {
          "base_uri": "https://localhost:8080/",
          "height": 153
        },
        "outputId": "1f880808-6316-420c-bcd5-c27d4b3430a3"
      },
      "source": [
        "# LIST\n",
        "X = [1, 2, 3, 4, 5, 10, -1, 2, 1.3]\n",
        "print(type(X))\n",
        "print(X)\n",
        "\n",
        "# LIST SLICING\n",
        "print(X[1])\n",
        "print(X[1:6])\n",
        "print(X[:6])\n",
        "print(X[6:])\n",
        "print(X[-6:-1])\n",
        "print(X[-3:])\n",
        "#print(dir(list))"
      ],
      "execution_count": null,
      "outputs": [
        {
          "output_type": "stream",
          "text": [
            "<class 'list'>\n",
            "[1, 2, 3, 4, 5, 10, -1, 2, 1.3]\n",
            "2\n",
            "[2, 3, 4, 5, 10]\n",
            "[1, 2, 3, 4, 5, 10]\n",
            "[-1, 2, 1.3]\n",
            "[4, 5, 10, -1, 2]\n",
            "[-1, 2, 1.3]\n"
          ],
          "name": "stdout"
        }
      ]
    },
    {
      "cell_type": "code",
      "metadata": {
        "id": "Cz6XeDmvpEF6",
        "colab_type": "code",
        "colab": {
          "base_uri": "https://localhost:8080/",
          "height": 34
        },
        "outputId": "f64d128f-0acb-4466-a5df-e06de419addf"
      },
      "source": [
        "print(1.3 in X)"
      ],
      "execution_count": null,
      "outputs": [
        {
          "output_type": "stream",
          "text": [
            "True\n"
          ],
          "name": "stdout"
        }
      ]
    },
    {
      "cell_type": "code",
      "metadata": {
        "id": "2NAcYb6Gp99k",
        "colab_type": "code",
        "colab": {
          "base_uri": "https://localhost:8080/",
          "height": 102
        },
        "outputId": "ff7ae6af-464a-4ff2-d600-cca8f4219dce"
      },
      "source": [
        "X = [1, 2, [1, 3]]\n",
        "print(X)\n",
        "print(type(X))\n",
        "print(type(X[0]))\n",
        "print(X[-1])\n",
        "print(type(X[-1]))"
      ],
      "execution_count": null,
      "outputs": [
        {
          "output_type": "stream",
          "text": [
            "[1, 2, [1, 3]]\n",
            "<class 'list'>\n",
            "<class 'int'>\n",
            "[1, 3]\n",
            "<class 'list'>\n"
          ],
          "name": "stdout"
        }
      ]
    },
    {
      "cell_type": "code",
      "metadata": {
        "id": "YpaVKedsqQ-v",
        "colab_type": "code",
        "colab": {
          "base_uri": "https://localhost:8080/",
          "height": 68
        },
        "outputId": "0848d716-d1cd-4067-f82f-503eced54bd2"
      },
      "source": [
        "#[1 2 3\n",
        "# 4 5 6]\n",
        "\n",
        "matrix = [[1, 2, 3], [4, 5, 6]]\n",
        "print(matrix)\n",
        "print(matrix[0])\n",
        "print(matrix[1][2])"
      ],
      "execution_count": null,
      "outputs": [
        {
          "output_type": "stream",
          "text": [
            "[[1, 2, 3], [4, 5, 6]]\n",
            "[1, 2, 3]\n",
            "6\n"
          ],
          "name": "stdout"
        }
      ]
    },
    {
      "cell_type": "code",
      "metadata": {
        "id": "bXRWooJYq6Hv",
        "colab_type": "code",
        "colab": {
          "base_uri": "https://localhost:8080/",
          "height": 51
        },
        "outputId": "5071b393-3116-41fb-e698-5e7f22383d69"
      },
      "source": [
        "arr1 = [\"a\", \"b\", \"c\"]\n",
        "arr2 = [0] * 5\n",
        "arr3 = [1, 2, 3, 4, 5]\n",
        "arr4 = [5, 4, 3, 2, 1]\n",
        "\n",
        "print(arr2)\n",
        "print(arr1 + arr4) #array concat"
      ],
      "execution_count": null,
      "outputs": [
        {
          "output_type": "stream",
          "text": [
            "[0, 0, 0, 0, 0]\n",
            "['a', 'b', 'c', 5, 4, 3, 2, 1]\n"
          ],
          "name": "stdout"
        }
      ]
    },
    {
      "cell_type": "code",
      "metadata": {
        "id": "trAMmwOsrb-l",
        "colab_type": "code",
        "colab": {}
      },
      "source": [
        ""
      ],
      "execution_count": null,
      "outputs": []
    }
  ]
}