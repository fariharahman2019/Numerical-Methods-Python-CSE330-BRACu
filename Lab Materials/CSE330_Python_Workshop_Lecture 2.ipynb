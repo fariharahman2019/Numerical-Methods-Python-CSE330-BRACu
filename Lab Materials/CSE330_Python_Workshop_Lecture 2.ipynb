{
  "nbformat": 4,
  "nbformat_minor": 0,
  "metadata": {
    "colab": {
      "name": "Copy of Introduction to Python ",
      "provenance": [],
      "collapsed_sections": []
    },
    "kernelspec": {
      "name": "python3",
      "display_name": "Python 3"
    }
  },
  "cells": [
    {
      "cell_type": "markdown",
      "metadata": {
        "id": "Cmr3QVeiA1ML",
        "colab_type": "text"
      },
      "source": [
        "#Introduction to Python\n",
        "\n",
        "---\n",
        "\n"
      ]
    },
    {
      "cell_type": "markdown",
      "metadata": {
        "id": "SHzkmmVbSHNG",
        "colab_type": "text"
      },
      "source": [
        " # Why Python?\n",
        " \n",
        " * It supports a lot of today’s technology including vast libraries for twitter, data mining, scientific calculations, designing, back-end server for websites, engineering simulations, artificial learning, augmented reality and what not. Also, it supports all kind of App development. Web crawlers used for data mining and all are designed and developed in Python.\n",
        "\n",
        " * It has a large community; solutions to any problems you face can be easily found online.\n",
        "\n",
        " * It is Open Source\n",
        "\n",
        " * It is easily understandable; very close to human language."
      ]
    },
    {
      "cell_type": "markdown",
      "metadata": {
        "id": "44At6uYkSXZ1",
        "colab_type": "text"
      },
      "source": [
        "Difference between Interpreter and Compiler\n",
        "https://techdifferences.com/difference-between-compiler-and-interpreter.html"
      ]
    },
    {
      "cell_type": "markdown",
      "metadata": {
        "id": "xqwrX9Tx8Eit",
        "colab_type": "text"
      },
      "source": [
        "# What is Google Colab?\n",
        "\n",
        "* It's a Jupyter notebook environment that requires no setup to use and runs entirely in the cloud.\n",
        "* 12 GB RAM; can be extended to 25 GB for free"
      ]
    },
    {
      "cell_type": "markdown",
      "metadata": {
        "id": "a3F5DliNApwc",
        "colab_type": "text"
      },
      "source": [
        "# Data types"
      ]
    },
    {
      "cell_type": "code",
      "metadata": {
        "id": "NngNLZVM9zIz",
        "colab_type": "code",
        "colab": {
          "base_uri": "https://localhost:8080/",
          "height": 101
        },
        "outputId": "232cbd9f-de91-47b3-8293-07fae6cbc6d5"
      },
      "source": [
        "a = 1 # integer\n",
        "print(a)\n",
        "b = 1.1 # float\n",
        "print(b)\n",
        "c = 1 + 2j # complex number (a + bi) \n",
        "print(c) \n",
        "d = 'a' # string\n",
        "print(d)\n",
        "e = True # boolean (True / False)\n",
        "print(e)"
      ],
      "execution_count": null,
      "outputs": [
        {
          "output_type": "stream",
          "text": [
            "1\n",
            "1.1\n",
            "(1+2j)\n",
            "a\n",
            "True\n"
          ],
          "name": "stdout"
        }
      ]
    },
    {
      "cell_type": "code",
      "metadata": {
        "id": "8aSXOfDVpA8H",
        "colab_type": "code",
        "colab": {
          "base_uri": "https://localhost:8080/",
          "height": 34
        },
        "outputId": "5633f7df-b33f-4673-9562-a91a2f75f149"
      },
      "source": [
        "#print type\n",
        "type(e)"
      ],
      "execution_count": null,
      "outputs": [
        {
          "output_type": "execute_result",
          "data": {
            "text/plain": [
              "bool"
            ]
          },
          "metadata": {
            "tags": []
          },
          "execution_count": 27
        }
      ]
    },
    {
      "cell_type": "code",
      "metadata": {
        "id": "7_bRue6oSX3d",
        "colab_type": "code",
        "colab": {
          "base_uri": "https://localhost:8080/",
          "height": 87
        },
        "outputId": "937b41a6-a380-4c2c-8dca-d8176a13aa85"
      },
      "source": [
        "a = 5 * 3\n",
        "print(a)\n",
        "b = 5 ** 3\n",
        "print(b)\n",
        "c = 5 / 3\n",
        "print(c)\n",
        "d = 5 // 3  #integer division--sort of like a floor of the original division (5/3)\n",
        "print(d)"
      ],
      "execution_count": null,
      "outputs": [
        {
          "output_type": "stream",
          "text": [
            "15\n",
            "125\n",
            "1.6666666666666667\n",
            "1\n"
          ],
          "name": "stdout"
        }
      ]
    },
    {
      "cell_type": "markdown",
      "metadata": {
        "id": "LZCZotzbgjF1",
        "colab_type": "text"
      },
      "source": [
        "# Input & Type Conversion"
      ]
    },
    {
      "cell_type": "code",
      "metadata": {
        "id": "nxn7Hu3qgo_N",
        "colab_type": "code",
        "colab": {
          "base_uri": "https://localhost:8080/",
          "height": 50
        },
        "outputId": "af5eb1c2-e232-4a2a-91a3-3e62e8b15a86"
      },
      "source": [
        "#keep in mind that input() always returns a string\n",
        "x = input(\"Enter a number : \")\n",
        "print(x)\n",
        "\n"
      ],
      "execution_count": null,
      "outputs": [
        {
          "output_type": "stream",
          "text": [
            "Enter a number : 3\n",
            "3\n"
          ],
          "name": "stdout"
        }
      ]
    },
    {
      "cell_type": "markdown",
      "metadata": {
        "id": "_iYa4Q4jBKfJ",
        "colab_type": "text"
      },
      "source": [
        "# Strings"
      ]
    },
    {
      "cell_type": "code",
      "metadata": {
        "id": "r1YXCA0FAPw3",
        "colab_type": "code",
        "colab": {
          "base_uri": "https://localhost:8080/",
          "height": 88
        },
        "outputId": "7fedf39f-562a-4f26-c99d-7b052336ed0c"
      },
      "source": [
        "x = 'Python'\n",
        "print(len(x))\n",
        "print(x[0])\n",
        "print(x[-1])\n",
        "x[0:3]"
      ],
      "execution_count": null,
      "outputs": [
        {
          "output_type": "stream",
          "text": [
            "6\n",
            "P\n",
            "n\n"
          ],
          "name": "stdout"
        },
        {
          "output_type": "execute_result",
          "data": {
            "application/vnd.google.colaboratory.intrinsic+json": {
              "type": "string"
            },
            "text/plain": [
              "'Pyt'"
            ]
          },
          "metadata": {
            "tags": []
          },
          "execution_count": 29
        }
      ]
    },
    {
      "cell_type": "code",
      "metadata": {
        "id": "S01qnPsTDdjo",
        "colab_type": "code",
        "colab": {
          "base_uri": "https://localhost:8080/",
          "height": 35
        },
        "outputId": "3f4aaff9-5a17-4324-b663-ddb06c3935db"
      },
      "source": [
        "x[5]"
      ],
      "execution_count": null,
      "outputs": [
        {
          "output_type": "execute_result",
          "data": {
            "application/vnd.google.colaboratory.intrinsic+json": {
              "type": "string"
            },
            "text/plain": [
              "'n'"
            ]
          },
          "metadata": {
            "tags": []
          },
          "execution_count": 30
        }
      ]
    },
    {
      "cell_type": "code",
      "metadata": {
        "id": "Vk_2o_MsDIiB",
        "colab_type": "code",
        "colab": {}
      },
      "source": [
        "len()"
      ],
      "execution_count": null,
      "outputs": []
    },
    {
      "cell_type": "code",
      "metadata": {
        "id": "27fnJeKLAV7l",
        "colab_type": "code",
        "colab": {
          "base_uri": "https://localhost:8080/",
          "height": 50
        },
        "outputId": "6ffa6b0a-6ddf-4915-8679-db9a2daecdb0"
      },
      "source": [
        "name = \"John\"\n",
        "print(\"Hello, %s!\" % name)\n",
        "age = 23\n",
        "print(\"%s is %d years old.\" % (name, age))\n",
        "\n",
        "# Escape sequences\n",
        "#\\” \\’ \\\\ \\n\n"
      ],
      "execution_count": null,
      "outputs": [
        {
          "output_type": "stream",
          "text": [
            "Hello, John!\n",
            "John is 23 years old.\n"
          ],
          "name": "stdout"
        }
      ]
    },
    {
      "cell_type": "markdown",
      "metadata": {
        "id": "R2Wg9QofrQJ4",
        "colab_type": "text"
      },
      "source": [
        "Note on 'find' method:\n",
        "\n",
        "The find() method finds the first occurrence of the specified value.\n",
        "\n",
        "The find() method returns -1 if the value is not found.\n",
        "\n",
        "string.find(value, start, end)"
      ]
    },
    {
      "cell_type": "code",
      "metadata": {
        "id": "1C3laXI3AZc8",
        "colab_type": "code",
        "colab": {
          "base_uri": "https://localhost:8080/",
          "height": 134
        },
        "outputId": "4564eb65-7de6-45df-9066-bdd3f0a15ecf"
      },
      "source": [
        "# String methods\n",
        "print(x.upper())\n",
        "print(x.lower())\n",
        "print(x.title())   #first character in each word to Uppercase and remaining characters to Lowercase in string and returns new string\n",
        "print(x.strip('n'))\n",
        "print(x.find('P'))\n",
        "print(x.replace('o', 'b'))\n",
        "'a' in x"
      ],
      "execution_count": null,
      "outputs": [
        {
          "output_type": "stream",
          "text": [
            "PYTHON\n",
            "python\n",
            "Python\n",
            "Pytho\n",
            "0\n",
            "Pythbn\n"
          ],
          "name": "stdout"
        },
        {
          "output_type": "execute_result",
          "data": {
            "text/plain": [
              "False"
            ]
          },
          "metadata": {
            "tags": []
          },
          "execution_count": 215
        }
      ]
    },
    {
      "cell_type": "markdown",
      "metadata": {
        "id": "hgXsz6H-YoLf",
        "colab_type": "text"
      },
      "source": [
        "# If-else Conditions"
      ]
    },
    {
      "cell_type": "code",
      "metadata": {
        "id": "fV1Ep58dZ15Q",
        "colab_type": "code",
        "colab": {
          "base_uri": "https://localhost:8080/",
          "height": 34
        },
        "outputId": "9470eaed-9f3c-41bf-d05d-465bb4e25f8c"
      },
      "source": [
        "x = 3\n",
        "if (x == 1):\n",
        "  print(1)\n",
        "elif (x == 2):\n",
        "  print(2)\n",
        "else:\n",
        "  print(3)"
      ],
      "execution_count": null,
      "outputs": [
        {
          "output_type": "stream",
          "text": [
            "3\n"
          ],
          "name": "stdout"
        }
      ]
    },
    {
      "cell_type": "markdown",
      "metadata": {
        "id": "u0nw-qwHbcKD",
        "colab_type": "text"
      },
      "source": [
        "# Loops"
      ]
    },
    {
      "cell_type": "markdown",
      "metadata": {
        "id": "9hNUGw7otLrO",
        "colab_type": "text"
      },
      "source": [
        "Range function: returns a range object, which is nothing but a sequence of integers.\n",
        "Syntax: range(start,end,step)\n",
        "* end is exclusive\n",
        "* start is inclusive"
      ]
    },
    {
      "cell_type": "code",
      "metadata": {
        "id": "yYmeFSDKbFU0",
        "colab_type": "code",
        "colab": {
          "base_uri": "https://localhost:8080/",
          "height": 101
        },
        "outputId": "b3377217-91a4-4616-b4d5-33e5823a98d7"
      },
      "source": [
        "for n in range(5):\n",
        "  print(n)\n",
        " \n",
        "\n"
      ],
      "execution_count": null,
      "outputs": [
        {
          "output_type": "stream",
          "text": [
            "0\n",
            "1\n",
            "2\n",
            "3\n",
            "4\n"
          ],
          "name": "stdout"
        }
      ]
    },
    {
      "cell_type": "code",
      "metadata": {
        "id": "tE53w429biUA",
        "colab_type": "code",
        "colab": {
          "base_uri": "https://localhost:8080/",
          "height": 168
        },
        "outputId": "6c45537e-5bb0-455b-8aa1-5b8a1339cdc8"
      },
      "source": [
        "n = 1\n",
        "while (n < 10):\n",
        "  print(n)\n",
        "  n += 1"
      ],
      "execution_count": null,
      "outputs": [
        {
          "output_type": "stream",
          "text": [
            "1\n",
            "2\n",
            "3\n",
            "4\n",
            "5\n",
            "6\n",
            "7\n",
            "8\n",
            "9\n"
          ],
          "name": "stdout"
        }
      ]
    },
    {
      "cell_type": "markdown",
      "metadata": {
        "id": "BZs2J4RQW0Ap",
        "colab_type": "text"
      },
      "source": [
        "# Functions"
      ]
    },
    {
      "cell_type": "code",
      "metadata": {
        "id": "eeGeAKzeE5oM",
        "colab_type": "code",
        "colab": {
          "base_uri": "https://localhost:8080/",
          "height": 34
        },
        "outputId": "5bd9c2a7-d0fd-4ed0-d362-359dc60f84d7"
      },
      "source": [
        "def my_function(firstname, lastname):\n",
        "  print(\"My name is \" + firstname + \" \" + lastname)\n",
        "  \n",
        "\n",
        "my_function(\"Emil\", \"Refsnes\")"
      ],
      "execution_count": null,
      "outputs": [
        {
          "output_type": "stream",
          "text": [
            "My name is Emil Refsnes\n"
          ],
          "name": "stdout"
        }
      ]
    },
    {
      "cell_type": "code",
      "metadata": {
        "id": "Wt3URY9hWywJ",
        "colab_type": "code",
        "colab": {
          "base_uri": "https://localhost:8080/",
          "height": 168
        },
        "outputId": "0157c4c0-551e-4a38-a1ba-702afda49b54"
      },
      "source": [
        "def increment(number, by):\n",
        "  return number + by\n",
        "\n",
        "n = 1\n",
        "while (n < 10):\n",
        "  print(n)\n",
        "  n = increment(n, by=1)"
      ],
      "execution_count": null,
      "outputs": [
        {
          "output_type": "stream",
          "text": [
            "1\n",
            "2\n",
            "3\n",
            "4\n",
            "5\n",
            "6\n",
            "7\n",
            "8\n",
            "9\n"
          ],
          "name": "stdout"
        }
      ]
    },
    {
      "cell_type": "markdown",
      "metadata": {
        "id": "-se1IyTe2Ddb",
        "colab_type": "text"
      },
      "source": [
        "#Lists:\n",
        "\n",
        "\n",
        "*   ordered\n",
        "*   mutable\n",
        "*   can hold a mixture of data types\n",
        "*   no need to declare size beforehand\n",
        "\n",
        "\n",
        " "
      ]
    },
    {
      "cell_type": "markdown",
      "metadata": {
        "id": "OmQlMILbAyYJ",
        "colab_type": "text"
      },
      "source": [
        "Creating lists"
      ]
    },
    {
      "cell_type": "code",
      "metadata": {
        "id": "5tFjzU6G87Tb",
        "colab_type": "code",
        "colab": {
          "base_uri": "https://localhost:8080/",
          "height": 34
        },
        "outputId": "8ae721c0-b6a8-43a6-8742-011d1c3a329b"
      },
      "source": [
        "#the simplest way; we'll see more later\n",
        "letters = [\"a\", \"b\", \"c\"]\n",
        "letters\n"
      ],
      "execution_count": null,
      "outputs": [
        {
          "output_type": "execute_result",
          "data": {
            "text/plain": [
              "['a', 'b', 'c']"
            ]
          },
          "metadata": {
            "tags": []
          },
          "execution_count": 220
        }
      ]
    },
    {
      "cell_type": "code",
      "metadata": {
        "id": "ExPmFlH1Gtkm",
        "colab_type": "code",
        "colab": {
          "base_uri": "https://localhost:8080/",
          "height": 34
        },
        "outputId": "8eb41b97-ace6-4cb3-a319-db6b7a08296a"
      },
      "source": [
        "list = [1, 'c', 5.5]\n",
        "print(list)"
      ],
      "execution_count": null,
      "outputs": [
        {
          "output_type": "stream",
          "text": [
            "[1, 'c', 5.5]\n"
          ],
          "name": "stdout"
        }
      ]
    },
    {
      "cell_type": "markdown",
      "metadata": {
        "id": "Mm9iBBhBB9pL",
        "colab_type": "text"
      },
      "source": [
        "Accessing items in lists"
      ]
    },
    {
      "cell_type": "code",
      "metadata": {
        "id": "7Ot1GJVFAqX_",
        "colab_type": "code",
        "colab": {
          "base_uri": "https://localhost:8080/",
          "height": 35
        },
        "outputId": "f159aa2b-244f-43d7-c693-2190f0e90f2e"
      },
      "source": [
        "letters = [\"a\", \"b\", \"c\", \"d\"]\n",
        "letters[0] # \"a\"\n",
        "letters[2]\n"
      ],
      "execution_count": null,
      "outputs": [
        {
          "output_type": "execute_result",
          "data": {
            "application/vnd.google.colaboratory.intrinsic+json": {
              "type": "string"
            },
            "text/plain": [
              "'c'"
            ]
          },
          "metadata": {
            "tags": []
          },
          "execution_count": 31
        }
      ]
    },
    {
      "cell_type": "markdown",
      "metadata": {
        "id": "0JvYr_DSCFFT",
        "colab_type": "text"
      },
      "source": [
        "Slicing lists:\n",
        "* Notation: (start: end: increment)"
      ]
    },
    {
      "cell_type": "code",
      "metadata": {
        "id": "IDxL7C6AAsG2",
        "colab_type": "code",
        "colab": {
          "base_uri": "https://localhost:8080/",
          "height": 118
        },
        "outputId": "b3bd7b8e-f02c-4afc-88d2-23f453585060"
      },
      "source": [
        "print(letters[0:3]) # \"a\", \"b\", \"c\"\n",
        "print(letters[:3]) # \"a\", \"b\", \"c\"\n",
        "print(letters[0:]) # \"a\", \"b\", \"c\", \"d\"\n",
        "print(letters[:]) # \"a\", \"b\", \"c\", \"d\"\n",
        "print(letters[::2]) # \"a\", \"c\"\n",
        "print(letters[::-1]) # \"d\", \"c\", \"b\", \"a\""
      ],
      "execution_count": null,
      "outputs": [
        {
          "output_type": "stream",
          "text": [
            "['a', 'b', 'c']\n",
            "['a', 'b', 'c']\n",
            "['a', 'b', 'c', 'd']\n",
            "['a', 'b', 'c', 'd']\n",
            "['a', 'c']\n",
            "['d', 'c', 'b', 'a']\n"
          ],
          "name": "stdout"
        }
      ]
    },
    {
      "cell_type": "code",
      "metadata": {
        "id": "AXqOFcM-Vz5i",
        "colab_type": "code",
        "colab": {
          "base_uri": "https://localhost:8080/",
          "height": 50
        },
        "outputId": "01f2b9ef-5a23-46c1-a4f7-8a4721cd0b15"
      },
      "source": [
        "print(len(letters))\n",
        "print(letters[-1:-5:-1])"
      ],
      "execution_count": null,
      "outputs": [
        {
          "output_type": "stream",
          "text": [
            "4\n",
            "['d', 'c', 'b', 'a']\n"
          ],
          "name": "stdout"
        }
      ]
    },
    {
      "cell_type": "markdown",
      "metadata": {
        "id": "2cREaGMrCW63",
        "colab_type": "text"
      },
      "source": [
        "Some other ways to create lists"
      ]
    },
    {
      "cell_type": "code",
      "metadata": {
        "id": "V7br4aLiA9F4",
        "colab_type": "code",
        "colab": {
          "base_uri": "https://localhost:8080/",
          "height": 34
        },
        "outputId": "f6a1a7fc-90e9-4321-e62c-a598f3b4be5a"
      },
      "source": [
        "matrix = [[0, 1,3], [1, 2,4], [3,4,5]]\n",
        "matrix\n"
      ],
      "execution_count": null,
      "outputs": [
        {
          "output_type": "execute_result",
          "data": {
            "text/plain": [
              "[[0, 1, 3], [1, 2, 4], [3, 4, 5]]"
            ]
          },
          "metadata": {
            "tags": []
          },
          "execution_count": 32
        }
      ]
    },
    {
      "cell_type": "markdown",
      "metadata": {
        "id": "iUXTZFe5LC9J",
        "colab_type": "text"
      },
      "source": [
        ""
      ]
    },
    {
      "cell_type": "code",
      "metadata": {
        "id": "gQGuqR-9Ws6a",
        "colab_type": "code",
        "colab": {
          "base_uri": "https://localhost:8080/",
          "height": 34
        },
        "outputId": "fc19b03b-d719-46af-862a-874b8541d328"
      },
      "source": [
        "import numpy\n",
        "numpy.shape(matrix)"
      ],
      "execution_count": null,
      "outputs": [
        {
          "output_type": "execute_result",
          "data": {
            "text/plain": [
              "(2, 3)"
            ]
          },
          "metadata": {
            "tags": []
          },
          "execution_count": 10
        }
      ]
    },
    {
      "cell_type": "code",
      "metadata": {
        "id": "bsPKf8xSA89G",
        "colab_type": "code",
        "colab": {
          "base_uri": "https://localhost:8080/",
          "height": 34
        },
        "outputId": "169705e6-7515-4cb4-a6e1-68d7c48d37d0"
      },
      "source": [
        "zeros = [0] * 7\n",
        "zeros"
      ],
      "execution_count": null,
      "outputs": [
        {
          "output_type": "execute_result",
          "data": {
            "text/plain": [
              "[0, 0, 0, 0, 0, 0, 0]"
            ]
          },
          "metadata": {
            "tags": []
          },
          "execution_count": 33
        }
      ]
    },
    {
      "cell_type": "code",
      "metadata": {
        "id": "LJMr9Z3TA8zy",
        "colab_type": "code",
        "colab": {
          "base_uri": "https://localhost:8080/",
          "height": 34
        },
        "outputId": "afb9f44c-210a-4412-ed58-7d059b50fca7"
      },
      "source": [
        "combined = zeros + letters\n",
        "combined"
      ],
      "execution_count": null,
      "outputs": [
        {
          "output_type": "execute_result",
          "data": {
            "text/plain": [
              "[0, 0, 0, 0, 0, 0, 0, 'a', 'b', 'c', 'd']"
            ]
          },
          "metadata": {
            "tags": []
          },
          "execution_count": 34
        }
      ]
    },
    {
      "cell_type": "code",
      "metadata": {
        "id": "B7p3CIl_BETu",
        "colab_type": "code",
        "colab": {
          "base_uri": "https://localhost:8080/",
          "height": 34
        },
        "outputId": "49295e78-c1ab-497d-bca6-7f47f99b30c4"
      },
      "source": [
        "numbers = list(range(20))\n",
        "numbers"
      ],
      "execution_count": null,
      "outputs": [
        {
          "output_type": "execute_result",
          "data": {
            "text/plain": [
              "[0, 1, 2, 3, 4, 5, 6, 7, 8, 9, 10, 11, 12, 13, 14, 15, 16, 17, 18, 19]"
            ]
          },
          "metadata": {
            "tags": []
          },
          "execution_count": 228
        }
      ]
    },
    {
      "cell_type": "markdown",
      "metadata": {
        "id": "sOeof5BuX_hY",
        "colab_type": "text"
      },
      "source": [
        "Adding items"
      ]
    },
    {
      "cell_type": "code",
      "metadata": {
        "id": "yEXduWFv9MDV",
        "colab_type": "code",
        "colab": {}
      },
      "source": [
        "letters1 = [\"a\", \"b\", \"c\"]\n",
        "letters1.append(\"e\")\n",
        "letters1[::-1]\n"
      ],
      "execution_count": null,
      "outputs": []
    },
    {
      "cell_type": "code",
      "metadata": {
        "id": "bOXNvaHAXjAr",
        "colab_type": "code",
        "colab": {
          "base_uri": "https://localhost:8080/",
          "height": 34
        },
        "outputId": "33c70e06-1f75-4be6-8de8-8ecd681af93d"
      },
      "source": [
        "letters1"
      ],
      "execution_count": null,
      "outputs": [
        {
          "output_type": "execute_result",
          "data": {
            "text/plain": [
              "['a', 'b', 'c', 'e']"
            ]
          },
          "metadata": {
            "tags": []
          },
          "execution_count": 36
        }
      ]
    },
    {
      "cell_type": "code",
      "metadata": {
        "id": "JGwHbWhjXDpR",
        "colab_type": "code",
        "colab": {}
      },
      "source": [
        "letters1.insert(1, \"-\")"
      ],
      "execution_count": null,
      "outputs": []
    },
    {
      "cell_type": "code",
      "metadata": {
        "id": "ijIMFvGaX27d",
        "colab_type": "code",
        "colab": {
          "base_uri": "https://localhost:8080/",
          "height": 34
        },
        "outputId": "a4df9f26-7357-41b9-b1e9-16c3db6ef28e"
      },
      "source": [
        "letters1"
      ],
      "execution_count": null,
      "outputs": [
        {
          "output_type": "execute_result",
          "data": {
            "text/plain": [
              "['a', '-', 'b', 'c', 'e']"
            ]
          },
          "metadata": {
            "tags": []
          },
          "execution_count": 38
        }
      ]
    },
    {
      "cell_type": "markdown",
      "metadata": {
        "id": "Pkr_RYZdYCmA",
        "colab_type": "text"
      },
      "source": [
        "Removing items"
      ]
    },
    {
      "cell_type": "code",
      "metadata": {
        "id": "98-wmq_w9y-q",
        "colab_type": "code",
        "colab": {
          "base_uri": "https://localhost:8080/",
          "height": 34
        },
        "outputId": "126663ce-a001-4300-a5ca-46a8695a02b2"
      },
      "source": [
        "letters1.pop()\n"
      ],
      "execution_count": null,
      "outputs": [
        {
          "output_type": "execute_result",
          "data": {
            "text/plain": [
              "'e'"
            ]
          },
          "metadata": {
            "tags": []
          },
          "execution_count": 233
        }
      ]
    },
    {
      "cell_type": "code",
      "metadata": {
        "id": "73BbzDSxXrJu",
        "colab_type": "code",
        "colab": {
          "base_uri": "https://localhost:8080/",
          "height": 35
        },
        "outputId": "88f413f4-e4a3-471b-f75a-137925dd0580"
      },
      "source": [
        "letters1.pop(0)\n",
        "\n"
      ],
      "execution_count": null,
      "outputs": [
        {
          "output_type": "execute_result",
          "data": {
            "application/vnd.google.colaboratory.intrinsic+json": {
              "type": "string"
            },
            "text/plain": [
              "'a'"
            ]
          },
          "metadata": {
            "tags": []
          },
          "execution_count": 39
        }
      ]
    },
    {
      "cell_type": "code",
      "metadata": {
        "id": "5_uB3Wn-Xrxi",
        "colab_type": "code",
        "colab": {
          "base_uri": "https://localhost:8080/",
          "height": 34
        },
        "outputId": "32ea2faf-d65f-4fc9-fafa-60da21cd70df"
      },
      "source": [
        "letters1.remove(\"b\")\n",
        "letters1"
      ],
      "execution_count": null,
      "outputs": [
        {
          "output_type": "execute_result",
          "data": {
            "text/plain": [
              "['a', 'c']"
            ]
          },
          "metadata": {
            "tags": []
          },
          "execution_count": 235
        }
      ]
    },
    {
      "cell_type": "code",
      "metadata": {
        "id": "CdCRRPH-XuXF",
        "colab_type": "code",
        "colab": {}
      },
      "source": [
        "del letters1[0:3]"
      ],
      "execution_count": null,
      "outputs": []
    },
    {
      "cell_type": "markdown",
      "metadata": {
        "id": "4uAOzbSbYGDa",
        "colab_type": "text"
      },
      "source": [
        "Finding items"
      ]
    },
    {
      "cell_type": "code",
      "metadata": {
        "id": "QucQkp1Y91eJ",
        "colab_type": "code",
        "colab": {
          "base_uri": "https://localhost:8080/",
          "height": 34
        },
        "outputId": "3ce8ff11-4ef0-4900-d807-02b6b238dadc"
      },
      "source": [
        "letters = [\"a\", \"b\", \"c\", \"d\"]\n",
        "if \"b\" in letters:\n",
        "  print(letters.index(\"b\"))\n"
      ],
      "execution_count": null,
      "outputs": [
        {
          "output_type": "stream",
          "text": [
            "1\n"
          ],
          "name": "stdout"
        }
      ]
    },
    {
      "cell_type": "code",
      "metadata": {
        "id": "TltQDZpZ9Grk",
        "colab_type": "code",
        "colab": {
          "base_uri": "https://localhost:8080/",
          "height": 84
        },
        "outputId": "977469de-af09-4342-8407-68bc85a61840"
      },
      "source": [
        "# Looping over lists\n",
        "for letter in letters:\n",
        "  print(letter)\n",
        "\n"
      ],
      "execution_count": null,
      "outputs": [
        {
          "output_type": "stream",
          "text": [
            "a\n",
            "b\n",
            "c\n",
            "d\n"
          ],
          "name": "stdout"
        }
      ]
    },
    {
      "cell_type": "code",
      "metadata": {
        "id": "3OxhKUinsUPf",
        "colab_type": "code",
        "colab": {
          "base_uri": "https://localhost:8080/",
          "height": 67
        },
        "outputId": "dc7f39c4-cab4-43ef-8f87-e89c861ef166"
      },
      "source": [
        "# Unpacking\n",
        "letters = [\"a\", \"b\", \"c\", \"d\", \"e\"]\n",
        "first, second, *other = letters     #   * denotes a pointer which points to several addresses of the list\n",
        "print(first)\n",
        "print(second)\n",
        "print(*other)"
      ],
      "execution_count": null,
      "outputs": [
        {
          "output_type": "stream",
          "text": [
            "a\n",
            "b\n",
            "c d e\n"
          ],
          "name": "stdout"
        }
      ]
    },
    {
      "cell_type": "markdown",
      "metadata": {
        "id": "OhW3CjQOsvFR",
        "colab_type": "text"
      },
      "source": [
        "enumerate: returns an enumerate object. In our case that object is a list of tuples, each containing a pair of count/index and value."
      ]
    },
    {
      "cell_type": "code",
      "metadata": {
        "id": "tdnUyfTs9rko",
        "colab_type": "code",
        "colab": {
          "base_uri": "https://localhost:8080/",
          "height": 101
        },
        "outputId": "6a21ddc9-dfe2-46e2-9903-c6da73e0b04a"
      },
      "source": [
        "for index, letter in enumerate(letters):\n",
        "  print(index, end = \" \")\n",
        "  print(letter)"
      ],
      "execution_count": null,
      "outputs": [
        {
          "output_type": "stream",
          "text": [
            "0 a\n",
            "1 b\n",
            "2 c\n",
            "3 d\n",
            "4 e\n"
          ],
          "name": "stdout"
        }
      ]
    },
    {
      "cell_type": "code",
      "metadata": {
        "id": "_yimApWj98uX",
        "colab_type": "code",
        "colab": {
          "base_uri": "https://localhost:8080/",
          "height": 34
        },
        "outputId": "93f949c9-4479-4f4d-ef5c-a82e53892c05"
      },
      "source": [
        "# Sorting lists in place. They do not return a new list.\n",
        "letters.sort()\n",
        "letters.sort(reverse=True)\n",
        "#returns a new list\n",
        "sorted(letters) \n"
      ],
      "execution_count": null,
      "outputs": [
        {
          "output_type": "execute_result",
          "data": {
            "text/plain": [
              "['a', 'b', 'c', 'd']"
            ]
          },
          "metadata": {
            "tags": []
          },
          "execution_count": 241
        }
      ]
    },
    {
      "cell_type": "code",
      "metadata": {
        "id": "hMg0vN2Mtngg",
        "colab_type": "code",
        "colab": {
          "base_uri": "https://localhost:8080/",
          "height": 67
        },
        "outputId": "0b7b3840-eefe-416b-a642-01f2b9abbfa2"
      },
      "source": [
        "#list with different data types.\n",
        "x = [1,\"ball\", 3.3]\n",
        "for i in x:\n",
        "  print(i)"
      ],
      "execution_count": null,
      "outputs": [
        {
          "output_type": "stream",
          "text": [
            "1\n",
            "ball\n",
            "3.3\n"
          ],
          "name": "stdout"
        }
      ]
    },
    {
      "cell_type": "markdown",
      "metadata": {
        "id": "FkEbvW8I_xQ_",
        "colab_type": "text"
      },
      "source": [
        "# Dictionaries\n",
        "--contain a key-value pair"
      ]
    },
    {
      "cell_type": "code",
      "metadata": {
        "id": "TieHkAr49P8K",
        "colab_type": "code",
        "colab": {
          "base_uri": "https://localhost:8080/",
          "height": 34
        },
        "outputId": "6d112663-1bed-48a9-951c-8c8ef5f9a33d"
      },
      "source": [
        "point = {\"x\": 1, \"y\": 2}\n",
        "point\n"
      ],
      "execution_count": null,
      "outputs": [
        {
          "output_type": "execute_result",
          "data": {
            "text/plain": [
              "{'x': 1, 'y': 2}"
            ]
          },
          "metadata": {
            "tags": []
          },
          "execution_count": 46
        }
      ]
    },
    {
      "cell_type": "code",
      "metadata": {
        "id": "dFVBOLnwEc_5",
        "colab_type": "code",
        "colab": {
          "base_uri": "https://localhost:8080/",
          "height": 34
        },
        "outputId": "9df30952-f51d-43b8-ce57-e15c24ca9d0b"
      },
      "source": [
        "point[10] = \"z\"\n",
        "point\n"
      ],
      "execution_count": null,
      "outputs": [
        {
          "output_type": "execute_result",
          "data": {
            "text/plain": [
              "{10: 'z', 'x': 1, 'y': 2, 'z': 10}"
            ]
          },
          "metadata": {
            "tags": []
          },
          "execution_count": 48
        }
      ]
    },
    {
      "cell_type": "code",
      "metadata": {
        "id": "GM8yYLFsEv9W",
        "colab_type": "code",
        "colab": {
          "base_uri": "https://localhost:8080/",
          "height": 34
        },
        "outputId": "11c57ed1-f2c2-4851-8488-a5922d0fc5aa"
      },
      "source": [
        "if 2 in point:\n",
        "  print(\"found\")\n",
        "else:\n",
        "  print(\"not found\")\n"
      ],
      "execution_count": null,
      "outputs": [
        {
          "output_type": "stream",
          "text": [
            "not found\n"
          ],
          "name": "stdout"
        }
      ]
    },
    {
      "cell_type": "code",
      "metadata": {
        "id": "fXPjWeEJWf0E",
        "colab_type": "code",
        "colab": {}
      },
      "source": [
        "del point[\"x\"]\n"
      ],
      "execution_count": null,
      "outputs": []
    },
    {
      "cell_type": "code",
      "metadata": {
        "id": "WfdLLndUWiQM",
        "colab_type": "code",
        "colab": {
          "base_uri": "https://localhost:8080/",
          "height": 34
        },
        "outputId": "9c948203-e8ce-4892-b3d0-2c70e3f2452d"
      },
      "source": [
        "point"
      ],
      "execution_count": null,
      "outputs": [
        {
          "output_type": "execute_result",
          "data": {
            "text/plain": [
              "{'y': 2, 'z': 3}"
            ]
          },
          "metadata": {
            "tags": []
          },
          "execution_count": 247
        }
      ]
    },
    {
      "cell_type": "code",
      "metadata": {
        "id": "q_D25nVdvwLs",
        "colab_type": "code",
        "colab": {
          "base_uri": "https://localhost:8080/",
          "height": 50
        },
        "outputId": "53630e62-27be-4d14-fb95-8ccb372fe8b4"
      },
      "source": [
        "alphabets = {'a':'apple','b':'ball','c': 'cat'} #dictionary\n",
        "\n",
        "print(alphabets['a'])\n",
        "\n",
        "alphabets['d'] = 'dog' #adding to a dictionary  #if the key already exists, value will be overwritten\n",
        "\n",
        "alphabets"
      ],
      "execution_count": null,
      "outputs": [
        {
          "output_type": "stream",
          "text": [
            "apple\n"
          ],
          "name": "stdout"
        },
        {
          "output_type": "execute_result",
          "data": {
            "text/plain": [
              "{'a': 'apple', 'b': 'ball', 'c': 'cat', 'd': 'dog'}"
            ]
          },
          "metadata": {
            "tags": []
          },
          "execution_count": 248
        }
      ]
    },
    {
      "cell_type": "markdown",
      "metadata": {
        "id": "wSh9mGRAwYTi",
        "colab_type": "text"
      },
      "source": [
        "dict.items(): A view object that displays a list of a given dictionary’s (key, value) tuple pair."
      ]
    },
    {
      "cell_type": "code",
      "metadata": {
        "id": "Tp0UZKWbWQDn",
        "colab_type": "code",
        "colab": {
          "base_uri": "https://localhost:8080/",
          "height": 50
        },
        "outputId": "a8660ba6-f21a-4106-8f5f-6f2f19c5dd78"
      },
      "source": [
        "for key, value in point.items():\n",
        "  print(key,value)"
      ],
      "execution_count": null,
      "outputs": [
        {
          "output_type": "stream",
          "text": [
            "y 2\n",
            "z 3\n"
          ],
          "name": "stdout"
        }
      ]
    },
    {
      "cell_type": "code",
      "metadata": {
        "id": "wQyt-OpH-Hn3",
        "colab_type": "code",
        "colab": {
          "base_uri": "https://localhost:8080/",
          "height": 34
        },
        "outputId": "bfa56447-fe82-490a-e80b-346739ce374d"
      },
      "source": [
        "x = {\"A\":[1,2,3,4],\"B\":2, \"C\":3}\n",
        "x[\"A\"]"
      ],
      "execution_count": null,
      "outputs": [
        {
          "output_type": "execute_result",
          "data": {
            "text/plain": [
              "[1, 2, 3, 4]"
            ]
          },
          "metadata": {
            "tags": []
          },
          "execution_count": 250
        }
      ]
    },
    {
      "cell_type": "code",
      "metadata": {
        "id": "4EuwQUoH1euu",
        "colab_type": "code",
        "colab": {}
      },
      "source": [
        ""
      ],
      "execution_count": null,
      "outputs": []
    },
    {
      "cell_type": "markdown",
      "metadata": {
        "id": "cnqhRHxANbzN",
        "colab_type": "text"
      },
      "source": [
        "# Tuples\n",
        "\n",
        "Tuples cannot be updated; they are said to be immutable"
      ]
    },
    {
      "cell_type": "code",
      "metadata": {
        "id": "SBTp9Sek-M__",
        "colab_type": "code",
        "colab": {
          "base_uri": "https://localhost:8080/",
          "height": 34
        },
        "outputId": "e62fe47c-4a91-4af7-ba32-a7e97c52cab4"
      },
      "source": [
        "point = (1, 2, 3)\n",
        "\n",
        "point[0]\n",
        "\n",
        "#"
      ],
      "execution_count": null,
      "outputs": [
        {
          "output_type": "execute_result",
          "data": {
            "text/plain": [
              "1"
            ]
          },
          "metadata": {
            "tags": []
          },
          "execution_count": 72
        }
      ]
    },
    {
      "cell_type": "code",
      "metadata": {
        "id": "s7qb05L8-lY4",
        "colab_type": "code",
        "colab": {
          "base_uri": "https://localhost:8080/",
          "height": 178
        },
        "outputId": "07a3a5c8-5ce6-4934-e968-f213490d846b"
      },
      "source": [
        "point[0] = 9\n",
        "point"
      ],
      "execution_count": null,
      "outputs": [
        {
          "output_type": "error",
          "ename": "TypeError",
          "evalue": "ignored",
          "traceback": [
            "\u001b[0;31m---------------------------------------------------------------------------\u001b[0m",
            "\u001b[0;31mTypeError\u001b[0m                                 Traceback (most recent call last)",
            "\u001b[0;32m<ipython-input-73-af23a761d556>\u001b[0m in \u001b[0;36m<module>\u001b[0;34m()\u001b[0m\n\u001b[0;32m----> 1\u001b[0;31m \u001b[0mpoint\u001b[0m\u001b[0;34m[\u001b[0m\u001b[0;36m0\u001b[0m\u001b[0;34m]\u001b[0m \u001b[0;34m=\u001b[0m \u001b[0;36m9\u001b[0m\u001b[0;34m\u001b[0m\u001b[0;34m\u001b[0m\u001b[0m\n\u001b[0m\u001b[1;32m      2\u001b[0m \u001b[0mpoint\u001b[0m\u001b[0;34m\u001b[0m\u001b[0;34m\u001b[0m\u001b[0m\n",
            "\u001b[0;31mTypeError\u001b[0m: 'tuple' object does not support item assignment"
          ]
        }
      ]
    },
    {
      "cell_type": "code",
      "metadata": {
        "id": "W5q0sQW6NkTX",
        "colab_type": "code",
        "colab": {
          "base_uri": "https://localhost:8080/",
          "height": 34
        },
        "outputId": "c2abe2fa-9c22-4bd3-c17f-bdaa96b22cfb"
      },
      "source": [
        "point[0:2] # (1, 2)"
      ],
      "execution_count": null,
      "outputs": [
        {
          "output_type": "execute_result",
          "data": {
            "text/plain": [
              "(1, 2)"
            ]
          },
          "metadata": {
            "tags": []
          },
          "execution_count": 252
        }
      ]
    },
    {
      "cell_type": "code",
      "metadata": {
        "id": "PvY7Aiq3M13v",
        "colab_type": "code",
        "colab": {
          "base_uri": "https://localhost:8080/",
          "height": 50
        },
        "outputId": "1b0df4d2-3451-4dff-a44b-eb8c92fbcead"
      },
      "source": [
        "x, y, z = point\n",
        "print(\"x:\"+str(x))\n",
        "if 1 in point:\n",
        "  print(\"found\")"
      ],
      "execution_count": null,
      "outputs": [
        {
          "output_type": "stream",
          "text": [
            "x:1\n",
            "found\n"
          ],
          "name": "stdout"
        }
      ]
    },
    {
      "cell_type": "code",
      "metadata": {
        "id": "JEExQrL9-ScM",
        "colab_type": "code",
        "colab": {
          "base_uri": "https://localhost:8080/",
          "height": 34
        },
        "outputId": "1f279f31-069f-4656-ba83-d2e9f498ce0d"
      },
      "source": [
        "# Swapping variables\n",
        "x = 10\n",
        "y = 11\n",
        "x, y = y, x\n",
        "print(x,y)"
      ],
      "execution_count": null,
      "outputs": [
        {
          "output_type": "stream",
          "text": [
            "11 10\n"
          ],
          "name": "stdout"
        }
      ]
    },
    {
      "cell_type": "markdown",
      "metadata": {
        "id": "UQc7Qs7QOsSL",
        "colab_type": "text"
      },
      "source": [
        "# Sets\n",
        "\n",
        "You cannot access items in a set by referring to an index. Since sets are unordered, the items have no index. But you can loop through the set items using a **for** loop, or ask if a specified value is present in a set by using the **in** keyword.\n",
        "Remember: Sets are unordered"
      ]
    },
    {
      "cell_type": "code",
      "metadata": {
        "id": "hj4ceDSy0UJm",
        "colab_type": "code",
        "colab": {}
      },
      "source": [
        ""
      ],
      "execution_count": null,
      "outputs": []
    },
    {
      "cell_type": "code",
      "metadata": {
        "id": "4kvHYxuCP3hb",
        "colab_type": "code",
        "colab": {
          "base_uri": "https://localhost:8080/",
          "height": 34
        },
        "outputId": "ee003442-5868-4992-89b3-843fcd920202"
      },
      "source": [
        "vowels = {'a', 'e', 'i','i','i', 'o', 'u','u'} #set\n",
        "\n",
        "print(vowels)   #unordered and unique values"
      ],
      "execution_count": null,
      "outputs": [
        {
          "output_type": "stream",
          "text": [
            "{'a', 'i', 'o', 'e', 'u'}\n"
          ],
          "name": "stdout"
        }
      ]
    },
    {
      "cell_type": "code",
      "metadata": {
        "id": "Sblwfo1-Olaj",
        "colab_type": "code",
        "colab": {
          "base_uri": "https://localhost:8080/",
          "height": 34
        },
        "outputId": "f70723be-ff75-4d2c-b1ce-1643fdf1164a"
      },
      "source": [
        "first = {1, 2, 3, 4}\n",
        "second = {1, 5}\n",
        "\n",
        "first | second # {1, 2, 3, 4, 5}\n"
      ],
      "execution_count": null,
      "outputs": [
        {
          "output_type": "execute_result",
          "data": {
            "text/plain": [
              "{1, 2, 3, 4, 5}"
            ]
          },
          "metadata": {
            "tags": []
          },
          "execution_count": 15
        }
      ]
    },
    {
      "cell_type": "code",
      "metadata": {
        "id": "1FwAEg-CQLbC",
        "colab_type": "code",
        "colab": {
          "base_uri": "https://localhost:8080/",
          "height": 34
        },
        "outputId": "89d4b466-df19-49d8-d1d5-83d7bc4e14f6"
      },
      "source": [
        "first & second # {1}\n"
      ],
      "execution_count": null,
      "outputs": [
        {
          "output_type": "execute_result",
          "data": {
            "text/plain": [
              "{1}"
            ]
          },
          "metadata": {
            "tags": []
          },
          "execution_count": 16
        }
      ]
    },
    {
      "cell_type": "code",
      "metadata": {
        "id": "BuyxpciYQMHY",
        "colab_type": "code",
        "colab": {
          "base_uri": "https://localhost:8080/",
          "height": 34
        },
        "outputId": "9d97a5eb-880b-4e1f-b931-9982f2c5c1bb"
      },
      "source": [
        "first - second # {2, 3, 4}\n"
      ],
      "execution_count": null,
      "outputs": [
        {
          "output_type": "execute_result",
          "data": {
            "text/plain": [
              "{2, 3, 4}"
            ]
          },
          "metadata": {
            "tags": []
          },
          "execution_count": 17
        }
      ]
    },
    {
      "cell_type": "code",
      "metadata": {
        "id": "VIoL3ws_QN_0",
        "colab_type": "code",
        "colab": {
          "base_uri": "https://localhost:8080/",
          "height": 34
        },
        "outputId": "0c4db34f-29f7-4e4b-b830-3d68ff8385ca"
      },
      "source": [
        "first ^ second # {2, 3, 4, 5}\n"
      ],
      "execution_count": null,
      "outputs": [
        {
          "output_type": "execute_result",
          "data": {
            "text/plain": [
              "{2, 3, 4, 5}"
            ]
          },
          "metadata": {
            "tags": []
          },
          "execution_count": 18
        }
      ]
    },
    {
      "cell_type": "code",
      "metadata": {
        "id": "UzSUgblVQfR_",
        "colab_type": "code",
        "colab": {
          "base_uri": "https://localhost:8080/",
          "height": 34
        },
        "outputId": "dd9936e4-2e9c-4242-e800-5f524923c2f7"
      },
      "source": [
        "if 1 in first:\n",
        "  print(\"found one\")\n"
      ],
      "execution_count": null,
      "outputs": [
        {
          "output_type": "stream",
          "text": [
            "found one\n"
          ],
          "name": "stdout"
        }
      ]
    },
    {
      "cell_type": "markdown",
      "metadata": {
        "id": "1PRRPK1XBCXA",
        "colab_type": "text"
      },
      "source": [
        "#Lambda Function:\n",
        "Syntax: \n",
        "* lambda arguments : expression\n",
        "* can take any number of arguments, but can only have one expression\n",
        "\n",
        "\n"
      ]
    },
    {
      "cell_type": "code",
      "metadata": {
        "id": "xSz6k4BPVgqF",
        "colab_type": "code",
        "colab": {
          "base_uri": "https://localhost:8080/",
          "height": 34
        },
        "outputId": "81fd7829-d0e2-40bf-864f-72e591006591"
      },
      "source": [
        "x = lambda a : a + 10\n",
        "print(x(5))"
      ],
      "execution_count": null,
      "outputs": [
        {
          "output_type": "stream",
          "text": [
            "15\n"
          ],
          "name": "stdout"
        }
      ]
    },
    {
      "cell_type": "code",
      "metadata": {
        "id": "0P4UIv8LBWQN",
        "colab_type": "code",
        "colab": {
          "base_uri": "https://localhost:8080/",
          "height": 34
        },
        "outputId": "9bd1bd63-c10c-4842-aecf-d3845de9d54e"
      },
      "source": [
        "x = lambda a, b : a * b\n",
        "print(x(10, 3))"
      ],
      "execution_count": null,
      "outputs": [
        {
          "output_type": "stream",
          "text": [
            "30\n"
          ],
          "name": "stdout"
        }
      ]
    },
    {
      "cell_type": "code",
      "metadata": {
        "id": "1wH-3Ys3BWJP",
        "colab_type": "code",
        "colab": {
          "base_uri": "https://localhost:8080/",
          "height": 34
        },
        "outputId": "675bdaac-cc88-4d87-c2f5-d11b91725c50"
      },
      "source": [
        "x = lambda a, b, c : a + b + c\n",
        "print(x(5, 6, 2))"
      ],
      "execution_count": null,
      "outputs": [
        {
          "output_type": "stream",
          "text": [
            "13\n"
          ],
          "name": "stdout"
        }
      ]
    },
    {
      "cell_type": "code",
      "metadata": {
        "id": "j5mxJbRKBw00",
        "colab_type": "code",
        "colab": {}
      },
      "source": [
        "def x(a):\n",
        "  return a+10\n",
        "\n",
        "print(x(5))"
      ],
      "execution_count": null,
      "outputs": []
    },
    {
      "cell_type": "code",
      "metadata": {
        "id": "BA5K78CDQdRj",
        "colab_type": "code",
        "colab": {}
      },
      "source": [
        ""
      ],
      "execution_count": null,
      "outputs": []
    }
  ]
}